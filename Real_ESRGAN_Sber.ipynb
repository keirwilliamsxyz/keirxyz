{
  "nbformat": 4,
  "nbformat_minor": 0,
  "metadata": {
    "accelerator": "GPU",
    "colab": {
      "name": "Real-ESRGAN-Sber.ipynb",
      "provenance": [],
      "collapsed_sections": [],
      "include_colab_link": true
    },
    "kernelspec": {
      "display_name": "Python 3",
      "name": "python3"
    },
    "language_info": {
      "name": "python"
    }
  },
  "cells": [
    {
      "cell_type": "markdown",
      "metadata": {
        "id": "view-in-github",
        "colab_type": "text"
      },
      "source": [
        "<a href=\"https://colab.research.google.com/github/keirwilliamsxyz/keirxyz/blob/main/Real_ESRGAN_Sber.ipynb\" target=\"_parent\"><img src=\"https://colab.research.google.com/assets/colab-badge.svg\" alt=\"Open In Colab\"/></a>"
      ]
    },
    {
      "cell_type": "markdown",
      "metadata": {
        "id": "Czlr7j7-t1Fw"
      },
      "source": [
        "# Установка\n"
      ]
    },
    {
      "cell_type": "markdown",
      "metadata": {
        "id": "3haUp1FJskh5"
      },
      "source": [
        "Веса для x2, x4, x8 моделей можно скачать по этой ссылке:\n",
        "https://drive.google.com/drive/folders/16PlVKhTNkSyWFx52RPb2hXPIQveNGbxS"
      ]
    },
    {
      "cell_type": "code",
      "metadata": {
        "id": "zXm_whLxt-2X"
      },
      "source": [
        "!git clone https://github.com/boomb0om/Real-ESRGAN-colab\n",
        "%cd Real-ESRGAN-colab\n",
        "!pip install -r requirements.txt\n",
        "# download model weights\n",
        "# x2 \n",
        "!gdown https://drive.google.com/uc?id=1pG2S3sYvSaO0V0B8QPOl1RapPHpUGOaV -O weights/RealESRGAN_x2.pth\n",
        "# x4\n",
        "!gdown https://drive.google.com/uc?id=1SGHdZAln4en65_NQeQY9UjchtkEF9f5F -O weights/RealESRGAN_x4.pth\n",
        "# x8\n",
        "!gdown https://drive.google.com/uc?id=1mT9ewx86PSrc43b-ax47l1E2UzR7Ln4j -O weights/RealESRGAN_x8.pth"
      ],
      "execution_count": null,
      "outputs": []
    },
    {
      "cell_type": "markdown",
      "metadata": {
        "id": "zmqafWsYu5GT"
      },
      "source": [
        "# Загрузка изображений/архивов\n"
      ]
    },
    {
      "cell_type": "code",
      "metadata": {
        "id": "oNUtiddJvJK6"
      },
      "source": [
        "import os\n",
        "from google.colab import files\n",
        "import shutil\n",
        "\n",
        "upload_folder = 'inputs'\n",
        "result_folder = 'results'\n",
        "\n",
        "os.makedirs(upload_folder, exist_ok=True)\n",
        "os.makedirs(result_folder, exist_ok=True)\n",
        "\n",
        "# upload files\n",
        "uploaded = files.upload()\n",
        "for filename in uploaded.keys():\n",
        "  dst_path = os.path.join(upload_folder, filename)\n",
        "  print(f'move {filename} to {dst_path}')\n",
        "  shutil.move(filename, dst_path)"
      ],
      "execution_count": null,
      "outputs": []
    },
    {
      "cell_type": "markdown",
      "metadata": {
        "id": "3PRdwMngvxKn"
      },
      "source": [
        "# Запуск модели"
      ]
    },
    {
      "cell_type": "code",
      "metadata": {
        "id": "aCrW4PDUv8mb"
      },
      "source": [
        "# Создание модели\n",
        "from realesrgan import RealESRGAN\n",
        "from PIL import Image\n",
        "import numpy as np\n",
        "import torch\n",
        "\n",
        "device = torch.device('cuda' if torch.cuda.is_available() else 'cpu')\n",
        "print('device:', device)\n",
        "\n",
        "model = RealESRGAN(device, scale=4)\n",
        "model.load_weights('weights/RealESRGAN_x4.pth')"
      ],
      "execution_count": null,
      "outputs": []
    },
    {
      "cell_type": "markdown",
      "metadata": {
        "id": "8geveyawM5m2"
      },
      "source": [
        "Улучшение одного изображения:"
      ]
    },
    {
      "cell_type": "code",
      "metadata": {
        "id": "F_9jjIacMzE3"
      },
      "source": [
        "path_to_image = 'inputs/lr_image.png'\n",
        "result_image_path = 'results/sr_image.png'\n",
        "\n",
        "image = Image.open(path_to_image).convert('RGB')\n",
        "sr_image = model.predict(np.array(image))\n",
        "\n",
        "sr_image.save(result_image_path)\n",
        "sr_image"
      ],
      "execution_count": null,
      "outputs": []
    },
    {
      "cell_type": "markdown",
      "metadata": {
        "id": "kVSDWUCOGf7l"
      },
      "source": [
        "Улучшение фотографий в архиве:"
      ]
    },
    {
      "cell_type": "code",
      "metadata": {
        "id": "c4OfEC4PBQFm"
      },
      "source": [
        "path_to_tar = 'inputs/test_upscale.tar.gz'\n",
        "result_tar_path = 'results/test_upscale_x4.tar.gz'"
      ],
      "execution_count": null,
      "outputs": []
    },
    {
      "cell_type": "code",
      "metadata": {
        "cellView": "form",
        "id": "2-ZQxo24GySB"
      },
      "source": [
        "#@title Обработка фото в архиве\n",
        "\n",
        "from io import BytesIO\n",
        "import io\n",
        "import tarfile\n",
        "\n",
        "IMAGE_FORMATS = ('.png', '.jpg', '.jpeg', '.tiff', '.bmp', '.gif')\n",
        "\n",
        "def image_to_tar_format(img, image_name):\n",
        "  buff = BytesIO()\n",
        "  if '.png' in image_name.lower():\n",
        "    img = img.convert('RGBA')\n",
        "    img.save(buff, format='PNG')\n",
        "  else:\n",
        "    img.save(buff, format='JPEG')\n",
        "  buff.seek(0)\n",
        "  fp = io.BufferedReader(buff)\n",
        "  img_tar_info = tarfile.TarInfo(name=image_name)\n",
        "  img_tar_info.size = len(buff.getvalue())\n",
        "  return img_tar_info, fp\n",
        "\n",
        "processing_tar = tarfile.open(path_to_tar, mode='r')\n",
        "save_tar = tarfile.open(result_tar_path, 'w')\n",
        "\n",
        "for c, member in enumerate(processing_tar):\n",
        "  print(f'{c}, processing {member.name}')\n",
        "\n",
        "  if not member.name.endswith(IMAGE_FORMATS):\n",
        "    continue\n",
        "\n",
        "  try:\n",
        "    img_bytes = BytesIO(processing_tar.extractfile(member.name).read())\n",
        "    img_lr = Image.open(img_bytes, mode='r').convert('RGB')\n",
        "  except Exception as err:\n",
        "    print(f'Не получилось открыть файл {member.name}, пропускаю')\n",
        "    continue\n",
        "\n",
        "  img_sr = model.predict(np.array(img_lr))\n",
        "\n",
        "  # adding to save_tar\n",
        "  img_tar_info, fp = image_to_tar_format(img_sr, member.name)\n",
        "  save_tar.addfile(img_tar_info, fp)\n",
        "\n",
        "processing_tar.close()\n",
        "save_tar.close()\n",
        "\n",
        "print(f'Finished! Archive saved to {result_tar_path}')"
      ],
      "execution_count": null,
      "outputs": []
    },
    {
      "cell_type": "code",
      "metadata": {
        "id": "j1L2qFdlTY_G"
      },
      "source": [
        ""
      ],
      "execution_count": null,
      "outputs": []
    }
  ]
}